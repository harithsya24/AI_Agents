{
  "nbformat": 4,
  "nbformat_minor": 0,
  "metadata": {
    "colab": {
      "provenance": []
    },
    "kernelspec": {
      "name": "python3",
      "display_name": "Python 3"
    },
    "language_info": {
      "name": "python"
    }
  },
  "cells": [
    {
      "cell_type": "code",
      "source": [
        "from google.colab import userdata"
      ],
      "metadata": {
        "id": "cpJATq_tuW38"
      },
      "execution_count": 6,
      "outputs": []
    },
    {
      "cell_type": "code",
      "execution_count": 10,
      "metadata": {
        "id": "Medt-FGhtdRf",
        "colab": {
          "base_uri": "https://localhost:8080/"
        },
        "outputId": "33e7c0e5-1b50-43d6-9e82-25b3b48f0401"
      },
      "outputs": [
        {
          "output_type": "stream",
          "name": "stdout",
          "text": [
            "The meaning of life is a complex and subjective concept that has been debated by philosophers, theologians, and scientists for centuries. Some believe that the meaning of life is to seek happiness, fulfillment, and personal development, while others believe that it is to serve a higher power or contribute to the greater good of society. Ultimately, the meaning of life is a deeply personal and individual question that each person must answer for themselves.\n"
          ]
        }
      ],
      "source": [
        "from openai import OpenAI\n",
        "\n",
        "client = OpenAI(\n",
        "  base_url=\"https://openrouter.ai/api/v1\",\n",
        "  api_key=userdata.get('OPENROUTER_API_KEY'),\n",
        ")\n",
        "\n",
        "completion = client.chat.completions.create(\n",
        "  model=\"openai/gpt-3.5-turbo\",\n",
        "  messages=[\n",
        "    {\n",
        "      \"role\": \"user\",\n",
        "      \"content\": \"What is the meaning of life?\"\n",
        "    }\n",
        "  ]\n",
        ")\n",
        "print(completion.choices[0].message.content)"
      ]
    },
    {
      "cell_type": "code",
      "source": [
        "from openai import OpenAI\n",
        "\n",
        "client = OpenAI(\n",
        "  base_url=\"https://openrouter.ai/api/v1\",\n",
        "  api_key=userdata.get('OPENROUTER_API_KEY'),\n",
        ")\n",
        "\n",
        "completion = client.chat.completions.create(\n",
        "  model=\"meta-llama/llama-3.2-90b-vision-instruct:free\",\n",
        "  messages=[\n",
        "    {\n",
        "      \"role\": \"user\",\n",
        "      \"content\": \"What is the meaning of life?\"\n",
        "    }\n",
        "  ]\n",
        ")\n",
        "print(completion.choices[0].message.content)"
      ],
      "metadata": {
        "colab": {
          "base_uri": "https://localhost:8080/"
        },
        "id": "6jl2d6L9wose",
        "outputId": "b2792bee-23b6-411a-f4be-acac7c54d18a"
      },
      "execution_count": 14,
      "outputs": [
        {
          "output_type": "stream",
          "name": "stdout",
          "text": [
            "The question of the meaning of life is one of the most profound and enduring questions in human history. It has been explored and debated by philosophers, theologians, scientists, and many others across various cultures and disciplines. While there is no one definitive answer, here are some perspectives on the meaning of life:\n",
            "\n",
            "1. **Biological perspective**: From a biological standpoint, the meaning of life is to survive and reproduce. This is the fundamental drive that underlies the existence of all living organisms, from single-celled bacteria to complex multicellular organisms like humans.\n",
            "2. **Religious perspective**: Many religions offer their own answers to the meaning of life. For example, in Christianity, the meaning of life is to love and serve God and to fulfill one's purpose in the world. In Buddhism, the meaning of life is to attain enlightenment and escape the cycle of suffering and rebirth.\n",
            "3. **Philosophical perspective**: Philosophers have offered various interpretations of the meaning of life. Some, like Epicurus, argue that the meaning of life is to seek happiness and fulfillment through the pursuit of pleasure and the avoidance of pain. Others, like Jean-Paul Sartre, argue that life has no inherent meaning, and that it is up to each individual to create their own meaning.\n",
            "4. **Personal perspective**: Ultimately, the meaning of life may be a deeply personal and subjective question. Each individual may have their own unique perspective on what gives their life meaning, whether it be relationships, work, creative pursuits, or other activities.\n",
            "5. **Existentialist perspective**: Existentialist philosophers like Søren Kierkegaard and Martin Heidegger argue that life has no inherent meaning, and that it is up to each individual to create their own meaning through their choices and actions.\n",
            "\n",
            "Some common themes that run through these perspectives include:\n",
            "\n",
            "* **Purpose**: Having a sense of purpose or direction in life can give life meaning.\n",
            "* **Relationships**: Building and maintaining relationships with others can provide a sense of belonging and meaning.\n",
            "* **Personal growth**: Striving for personal growth and self-improvement can give life meaning.\n",
            "* **Contribution**: Making a positive contribution to the world can give life meaning.\n",
            "* **Happiness**: Pursuing happiness and fulfillment can give life meaning.\n",
            "\n",
            "Ultimately, the meaning of life is a complex and multifaceted question that may not have a single definitive answer. It may be up to each individual to explore and discover their own meaning in life.\n",
            "\n",
            "Here are some quotes that may provide insight:\n",
            "\n",
            "* \"The purpose of life is to find your gift. The meaning of life is to give it away.\" - Pablo Picasso\n",
            "* \"The meaning of life is to give life meaning.\" - Viktor Frankl\n",
            "* \"Life is what happens to you while you're busy making other plans.\" - John Lennon\n",
            "* \"The meaning of life is to find your passion, and to pursue it with all your heart.\" - Unknown\n",
            "\n",
            "I hope these perspectives and quotes help you explore the meaning of life. Do you have any specific questions or thoughts on this topic?\n"
          ]
        }
      ]
    },
    {
      "cell_type": "markdown",
      "source": [
        "## Lets make something big and new"
      ],
      "metadata": {
        "id": "_TEqF9N-2UES"
      }
    },
    {
      "cell_type": "code",
      "source": [
        "from openai import OpenAI\n",
        "\n",
        "client = OpenAI(\n",
        "  base_url=\"https://openrouter.ai/api/v1\",\n",
        "  api_key=userdata.get('OPENROUTER_API_KEY'),\n",
        ")\n",
        "\n",
        "completion = client.chat.completions.create(\n",
        "  model=\"meta-llama/llama-3.2-90b-vision-instruct:free\",\n",
        "  messages=[\n",
        "    {\n",
        "      \"role\": \"system\",\n",
        "      \"content\": \"\"\"\n",
        "      You have access to the following tools:\n",
        "      Knife\n",
        "      Machete\n",
        "      Chainsaw\n",
        "      Rubber band\n",
        "\n",
        "      Use the following format:\n",
        "\n",
        "      Question:the input question you must answer\n",
        "      Action: the action to take, should be one of [Knife, Machete, Chainsaw, Rubber band]\n",
        "      \"\"\"\n",
        "    },\n",
        "    {\n",
        "      \"role\": \"user\",\n",
        "      \"content\": \"\"\"\n",
        "      Question: I want to open a present.\n",
        "      \"\"\"\n",
        "    }\n",
        "  ]\n",
        ")\n",
        "print(completion.choices[0].message.content)"
      ],
      "metadata": {
        "colab": {
          "base_uri": "https://localhost:8080/"
        },
        "id": "UaJyPnk02RDQ",
        "outputId": "a2c8c238-f853-4949-b294-6be247ce2dfc"
      },
      "execution_count": 30,
      "outputs": [
        {
          "output_type": "stream",
          "name": "stdout",
          "text": [
            "Action: Knife\n"
          ]
        }
      ]
    },
    {
      "cell_type": "code",
      "source": [
        "from openai import OpenAI\n",
        "\n",
        "client = OpenAI(\n",
        "  base_url=\"https://openrouter.ai/api/v1\",\n",
        "  api_key=userdata.get('OPENROUTER_API_KEY'),\n",
        ")\n",
        "\n",
        "chat_history = [\n",
        "    {\n",
        "      \"role\": \"system\",\n",
        "      \"content\": \"\"\"\n",
        "      You have access to the following tools:\n",
        "      Knife\n",
        "      Machete\n",
        "      Chainsaw\n",
        "      Rubber band\n",
        "\n",
        "      If you want to make an action, respond in this format:\n",
        "\n",
        "      Question:the input question you must answer\n",
        "      Thought: you should always think about what to do\n",
        "      Action: the action to take, should be one of [Knife, Machete, Chainsaw, Rubber band]\n",
        "\n",
        "      If you are finished, just say:\n",
        "\n",
        "      Final Answer: the answer to the original input question\n",
        "      \"\"\"\n",
        "    },\n",
        "    {\n",
        "      \"role\": \"user\",\n",
        "      \"content\": \"\"\"\n",
        "      Question: I want to open a present.\n",
        "      \"\"\"\n",
        "    }\n",
        "  ]\n",
        "\n",
        "completion = client.chat.completions.create(\n",
        "  model=\"meta-llama/llama-3.2-90b-vision-instruct:free\",\n",
        "  messages=chat_history\n",
        ")\n",
        "response_text = completion.choices[0].message.content"
      ],
      "metadata": {
        "id": "XxGaoTdI5MRH"
      },
      "execution_count": 56,
      "outputs": []
    },
    {
      "cell_type": "code",
      "source": [
        "chat_history"
      ],
      "metadata": {
        "colab": {
          "base_uri": "https://localhost:8080/"
        },
        "id": "67MAGNSy50SR",
        "outputId": "ef39646d-77ec-4f4b-dd68-050d6f455d76"
      },
      "execution_count": 57,
      "outputs": [
        {
          "output_type": "execute_result",
          "data": {
            "text/plain": [
              "[{'role': 'system',\n",
              "  'content': '\\n      You have access to the following tools:\\n      Knife\\n      Machete\\n      Chainsaw\\n      Rubber band\\n\\n      If you want to make an action, respond in this format:\\n\\n      Question:the input question you must answer\\n      Thought: you should always think about what to do\\n      Action: the action to take, should be one of [Knife, Machete, Chainsaw, Rubber band]\\n\\n      If you are finished, just say:\\n\\n      Final Answer: the answer to the original input question\\n      '},\n",
              " {'role': 'user',\n",
              "  'content': '\\n      Question: I want to open a present.\\n      '}]"
            ]
          },
          "metadata": {},
          "execution_count": 57
        }
      ]
    },
    {
      "cell_type": "code",
      "source": [
        "chat_history.extend([\n",
        "\n",
        "        {\"role\": \"assistant\", \"content\": response_text},\n",
        "        {\"role\": \"user\", \"content\": \"Observation: The knife did not work!  A tree has fallen down between you and present.\"}\n",
        "])"
      ],
      "metadata": {
        "id": "fB3hcTwE5qk6"
      },
      "execution_count": 58,
      "outputs": []
    },
    {
      "cell_type": "code",
      "source": [
        "chat_history"
      ],
      "metadata": {
        "colab": {
          "base_uri": "https://localhost:8080/"
        },
        "id": "VAcYERMF62RK",
        "outputId": "c2e7ff3f-75de-490c-a5b4-40e0e9f3f15f"
      },
      "execution_count": 59,
      "outputs": [
        {
          "output_type": "execute_result",
          "data": {
            "text/plain": [
              "[{'role': 'system',\n",
              "  'content': '\\n      You have access to the following tools:\\n      Knife\\n      Machete\\n      Chainsaw\\n      Rubber band\\n\\n      If you want to make an action, respond in this format:\\n\\n      Question:the input question you must answer\\n      Thought: you should always think about what to do\\n      Action: the action to take, should be one of [Knife, Machete, Chainsaw, Rubber band]\\n\\n      If you are finished, just say:\\n\\n      Final Answer: the answer to the original input question\\n      '},\n",
              " {'role': 'user',\n",
              "  'content': '\\n      Question: I want to open a present.\\n      '},\n",
              " {'role': 'assistant',\n",
              "  'content': 'Thought: Opening a present requires a tool that can cut through packing materials like tape or ribbon without damaging the gift inside. A sharp, but precise tool would be best for this task.\\n\\nAction: Knife'},\n",
              " {'role': 'user',\n",
              "  'content': 'Observation: The knife did not work!  A tree has fallen down between you and present.'}]"
            ]
          },
          "metadata": {},
          "execution_count": 59
        }
      ]
    },
    {
      "cell_type": "code",
      "source": [
        "completion = client.chat.completions.create(\n",
        "  model=\"meta-llama/llama-3.2-90b-vision-instruct:free\",\n",
        "  messages=chat_history\n",
        ")\n",
        "response_text = completion.choices[0].message.content\n",
        "response_text"
      ],
      "metadata": {
        "colab": {
          "base_uri": "https://localhost:8080/",
          "height": 52
        },
        "id": "lzTB7gHd66tz",
        "outputId": "21d5546c-04ec-47e0-b6d7-65154c34b013"
      },
      "execution_count": 60,
      "outputs": [
        {
          "output_type": "execute_result",
          "data": {
            "text/plain": [
              "'Thought: The tree is now an obstacle between me and the present. To get to the present, I need a tool that can effectively cut through the tree, ideally something more powerful than a knife. \\n\\nAction: Chainsaw'"
            ],
            "application/vnd.google.colaboratory.intrinsic+json": {
              "type": "string"
            }
          },
          "metadata": {},
          "execution_count": 60
        }
      ]
    },
    {
      "cell_type": "code",
      "source": [
        "from openai import OpenAI\n",
        "\n",
        "client = OpenAI(\n",
        "  base_url=\"https://openrouter.ai/api/v1\",\n",
        "  api_key=userdata.get('OPENROUTER_API_KEY'),\n",
        ")\n",
        "\n",
        "chat_history = [\n",
        "    {\n",
        "      \"role\": \"system\",\n",
        "      \"content\": \"\"\"\n",
        "      You have access to the following tools:\n",
        "      Knife\n",
        "      Machete\n",
        "      Chainsaw\n",
        "      Rubber band\n",
        "\n",
        "      Use the following format:\n",
        "\n",
        "      Question:the input question you must answer\n",
        "      Thought: you should always think about what to do\n",
        "      Action: the action to take, should be one of [Knife, Machete, Chainsaw, Rubber band]\n",
        "      Observation: the result of the action\n",
        "      ... (this Thought/Action/Observation can repeat N times)\n",
        "      Thought: I now know the final answer\n",
        "      Final Answer: the answer to the original input question\n",
        "      \"\"\"\n",
        "    },\n",
        "    {\n",
        "      \"role\": \"user\",\n",
        "      \"content\": \"\"\"\n",
        "      Question: I want to open a present.\n",
        "      \"\"\"\n",
        "    }\n",
        "  ]\n",
        "\n",
        "completion = client.chat.completions.create(\n",
        "  model=\"meta-llama/llama-3.2-90b-vision-instruct:free\",\n",
        "  messages= chat_history,\n",
        "  stop=\"Observation:\"\n",
        ")\n",
        "response_text = completion.choices[0].message.content\n",
        "print(response_text)"
      ],
      "metadata": {
        "colab": {
          "base_uri": "https://localhost:8080/"
        },
        "id": "mdccB5VdbDrW",
        "outputId": "0e4b8440-2d80-44c0-c408-1de4ede6fbad"
      },
      "execution_count": 72,
      "outputs": [
        {
          "output_type": "stream",
          "name": "stdout",
          "text": [
            "Thought: I need a way to cut or break the wrapping or package. Considering the tool options, I think something sharp will be needed.\n",
            "\n",
            "Action: Knife\n",
            "\n",
            "\n"
          ]
        }
      ]
    },
    {
      "cell_type": "code",
      "source": [
        "chat_history"
      ],
      "metadata": {
        "colab": {
          "base_uri": "https://localhost:8080/"
        },
        "id": "Vhjtg5z1bEr3",
        "outputId": "c4923c97-e533-4244-b91f-3128b688b1f6"
      },
      "execution_count": 73,
      "outputs": [
        {
          "output_type": "execute_result",
          "data": {
            "text/plain": [
              "[{'role': 'system',\n",
              "  'content': '\\n      You have access to the following tools:\\n      Knife\\n      Machete\\n      Chainsaw\\n      Rubber band\\n\\n      Use the following format:\\n\\n      Question:the input question you must answer\\n      Thought: you should always think about what to do\\n      Action: the action to take, should be one of [Knife, Machete, Chainsaw, Rubber band]\\n      Observation: the result of the action\\n      ... (this Thought/Action/Observation can repeat N times)\\n      Thought: I now know the final answer\\n      Final Answer: the answer to the original input question\\n      '},\n",
              " {'role': 'user',\n",
              "  'content': '\\n      Question: I want to open a present.\\n      '}]"
            ]
          },
          "metadata": {},
          "execution_count": 73
        }
      ]
    },
    {
      "cell_type": "code",
      "source": [
        "chat_history.extend([\n",
        "\n",
        "        {\"role\": \"assistant\", \"content\": response_text},\n",
        "        {\"role\": \"user\", \"content\": \"Observation: The knife did not work!  A tree has fallen down between you and present.\"}\n",
        "])"
      ],
      "metadata": {
        "id": "gOO3tJY6bLvJ"
      },
      "execution_count": 74,
      "outputs": []
    },
    {
      "cell_type": "code",
      "source": [
        "completion = client.chat.completions.create(\n",
        "  model=\"meta-llama/llama-3.2-90b-vision-instruct:free\",\n",
        "  messages=chat_history\n",
        ")\n",
        "response_text = completion.choices[0].message.content\n",
        "print(response_text)"
      ],
      "metadata": {
        "colab": {
          "base_uri": "https://localhost:8080/"
        },
        "id": "qLwH_73LbOpE",
        "outputId": "09fc2818-c4c4-4d03-dfc2-d7a8f590c3bb"
      },
      "execution_count": 75,
      "outputs": [
        {
          "output_type": "stream",
          "name": "stdout",
          "text": [
            "Thought: Now I have two problems: cutting the wrapping and removing the fallen tree. The tree is likely to be too big for a knife, so something more heavy-duty is needed.\n",
            "\n",
            "Action: Chainsaw\n"
          ]
        }
      ]
    },
    {
      "cell_type": "markdown",
      "source": [
        "## Lets make an Agent using what we have above and build a Calculator"
      ],
      "metadata": {
        "id": "H2MGoN4yEooR"
      }
    },
    {
      "cell_type": "code",
      "source": [
        "import re\n",
        "\n",
        "def extract_action_and_input(text):\n",
        "    action_match = re.search(r'Action: (.*)', text)\n",
        "    action_input_match = re.search(r'Action Input: (.*)', text)\n",
        "    action = action_match.group(1) if action_match else None\n",
        "    action_input = action_input_match.group(1) if action_input_match else None\n",
        "    return action, action_input\n",
        "\n",
        "\n",
        "extract_action_and_input(\"\"\"\n",
        "Thought: To calculate the square root of 144, I can use the math library in Python or a calculator.\n",
        "\n",
        "Action: Calculator\n",
        "Action Input: sqrt(144)\n",
        "\"\"\")"
      ],
      "metadata": {
        "colab": {
          "base_uri": "https://localhost:8080/"
        },
        "id": "T6sUAvhZzoOZ",
        "outputId": "e8df73c9-c93f-4ac9-b0dd-b61745a7094d"
      },
      "execution_count": 87,
      "outputs": [
        {
          "output_type": "execute_result",
          "data": {
            "text/plain": [
              "('Calculator', 'sqrt(144)')"
            ]
          },
          "metadata": {},
          "execution_count": 87
        }
      ]
    },
    {
      "cell_type": "code",
      "source": [
        "#Define calculator\n",
        "\n",
        "from sympy import sympify\n",
        "def calculator(expression):\n",
        "  try:\n",
        "    return str(sympify(expression))\n",
        "  except:\n",
        "    return \"Invalid expression\""
      ],
      "metadata": {
        "id": "qgmajFawfPvd"
      },
      "execution_count": 88,
      "outputs": []
    },
    {
      "cell_type": "code",
      "source": [
        "from openai import OpenAI\n",
        "import re\n",
        "\n",
        "client = OpenAI(\n",
        "    base_url=\"https://openrouter.ai/api/v1\",\n",
        "    api_key=userdata.get('OPENROUTER_API_KEY'),\n",
        ")\n",
        "\n",
        "user_prompt = \"I want to calculate the square root of 144.\"\n",
        "\n",
        "chat_history = [\n",
        "    {\n",
        "        \"role\": \"system\",\n",
        "        \"content\": \"\"\"\n",
        "        You have access to the following tools:\n",
        "        Calculator: Use this when you want to do math. Use SymPy expressions, eg: 2 + 2\n",
        "\n",
        "        Use the following format:\n",
        "\n",
        "        Question: the input question you must answer\n",
        "        Thought: you should always think about what to do\n",
        "        Action: the action to take, should be one of [Calculator]\n",
        "        Action Input: the input to the action\n",
        "        Observation: the result of the action\n",
        "        ... (this Thought/Action/Observation can repeat N times)\n",
        "        Thought: I now know the final answer\n",
        "        Final Answer: the answer to the original input question\n",
        "        \"\"\"\n",
        "    },\n",
        "    {\n",
        "        \"role\": \"user\",\n",
        "        \"content\": f\"Question: {user_prompt}\"\n",
        "    }\n",
        "]\n",
        "\n",
        "def extract_action_and_input(text):\n",
        "    action_match = re.search(r'Action: (.*)', text)\n",
        "    action_input_match = re.search(r'Action Input: (.*)', text)\n",
        "    action = action_match.group(1) if action_match else None\n",
        "    action_input = action_input_match.group(1) if action_input_match else None\n",
        "    return action, action_input\n",
        "\n",
        "def calculator(expression):\n",
        "    try:\n",
        "        from sympy import sympify\n",
        "        result = sympify(expression)\n",
        "        return result\n",
        "    except Exception as e:\n",
        "        return f\"Error: {str(e)}\"\n",
        "\n",
        "while True:\n",
        "    completion = client.chat.completions.create(\n",
        "        model=\"meta-llama/llama-3.2-90b-vision-instruct:free\",\n",
        "        messages=chat_history,\n",
        "        stop=\"Observation:\"\n",
        "    )\n",
        "\n",
        "    response_text = completion.choices[0].message.content\n",
        "    action, action_input = extract_action_and_input(response_text)\n",
        "\n",
        "    print(completion)\n",
        "\n",
        "    # If the LLM took an action\n",
        "    if action == \"Calculator\":\n",
        "        action_result = calculator(action_input)\n",
        "        result =([\n",
        "            {\"role\": \"assistant\", \"content\": response_text},\n",
        "            {\"role\": \"user\", \"content\": f\"Observation: {action_result}\"}\n",
        "        ])\n",
        "        chat_history.extend(result)\n",
        "    else:\n",
        "        break\n",
        "\n",
        "print(response_text)\n"
      ],
      "metadata": {
        "colab": {
          "base_uri": "https://localhost:8080/"
        },
        "id": "D-kRm0pJ1eiw",
        "outputId": "7fec0739-08af-4c51-c8a6-41b07b932752"
      },
      "execution_count": 93,
      "outputs": [
        {
          "output_type": "stream",
          "name": "stdout",
          "text": [
            "ChatCompletion(id='gen-1737429963-qivHaO8sGR0GT5o8o8VP', choices=[Choice(finish_reason='stop', index=0, logprobs=None, message=ChatCompletionMessage(content='Thought: To calculate the square root of a number, I can use the Calculator with the sqrt function from SymPy.\\n\\nAction: Calculator\\nAction Input: sqrt(144)\\n\\n', refusal='', role='assistant', audio=None, function_call=None, tool_calls=None), native_finish_reason='stop')], created=1737429963, model='meta-llama/llama-3.2-90b-vision-instruct', object='chat.completion', service_tier=None, system_fingerprint='fastcoe', usage=CompletionUsage(completion_tokens=35, prompt_tokens=179, total_tokens=214, completion_tokens_details=None, prompt_tokens_details=None), provider='SambaNova')\n",
            "ChatCompletion(id='gen-1737429964-wHzUDY0AKseFre9Ah1LZ', choices=[Choice(finish_reason='stop', index=0, logprobs=None, message=ChatCompletionMessage(content='Thought: I now know the final answer.\\n\\nFinal Answer: The square root of 144 is 12.', refusal='', role='assistant', audio=None, function_call=None, tool_calls=None), native_finish_reason='stop')], created=1737429964, model='meta-llama/llama-3.2-90b-vision-instruct', object='chat.completion', service_tier=None, system_fingerprint='fastcoe', usage=CompletionUsage(completion_tokens=22, prompt_tokens=229, total_tokens=251, completion_tokens_details=None, prompt_tokens_details=None), provider='SambaNova')\n",
            "Thought: I now know the final answer.\n",
            "\n",
            "Final Answer: The square root of 144 is 12.\n"
          ]
        }
      ]
    }
  ]
}